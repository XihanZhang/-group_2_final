{
 "cells": [
  {
   "cell_type": "markdown",
   "metadata": {},
   "source": [
    "# Alzheimers Project – A Rough Checklist of Expectations\n",
    "\n",
    "## 1. Extend *adni_merge.csv* \n",
    "**Merge in at least one** other substantial adni dataset \n",
    "- **describe** merge in a **data section**\n",
    "- state how many variables you have added\n",
    "\n",
    "## 2. Establish a baseline model\n",
    "- use the most predictive variables from each screen:\n",
    " - **gyri**: narrower\n",
    " - **sulci**: wider\n",
    " - **ventricles**: larger\n",
    "- Shoot for **baseline accuracies** reasonably above 50% adjusting for how rich your predictors are (e.g. 60-70% without imaging data).\n",
    "\n",
    "## 3. Evaluate multiple methods from class relative to the baseline\n",
    "\n",
    "## 4.Explicitly state a strategy for dealing with missing data.\n",
    "- If your problem statement is such that missing data can be resolved simply (e.g. dropping the most egregious cases) then that’s okay but please state your approach and explain why it makes sense for your project.\n",
    "- This is an opportunity to apply imputation methods from class.\n",
    "\n",
    "## 5. Explicitly state a strategy for dealing with the longitudinal nature of the dataset. \n",
    "o\tIt is acceptable to only keep one row per participant (e.g. the baseline visit). \n",
    "o\tAlternatively you can model the longitudinality (see additional guidance).\n",
    "o\tIf you do neither of these things beware. Consider the case when a participant’s visit 1 appears in training and visit 2 appears in test. If the participant’s characteristics change very little between visits and your model overfits to the participant, this may manifest as inflated test performance. \n",
    "\n",
    "\n"
   ]
  }
 ],
 "metadata": {
  "kernelspec": {
   "display_name": "Python 3",
   "language": "python",
   "name": "python3"
  },
  "language_info": {
   "codemirror_mode": {
    "name": "ipython",
    "version": 3
   },
   "file_extension": ".py",
   "mimetype": "text/x-python",
   "name": "python",
   "nbconvert_exporter": "python",
   "pygments_lexer": "ipython3",
   "version": "3.6.1"
  }
 },
 "nbformat": 4,
 "nbformat_minor": 2
}
